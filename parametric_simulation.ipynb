{
 "cells": [
  {
   "cell_type": "code",
   "execution_count": null,
   "metadata": {},
   "outputs": [],
   "source": []
  },
  {
   "cell_type": "code",
   "execution_count": 1,
   "metadata": {},
   "outputs": [
    {
     "name": "stdout",
     "output_type": "stream",
     "text": [
      "aa\n"
     ]
    }
   ],
   "source": [
    "import os\n",
    "def run_one_parameter_parametric(eplus_run_path, idf_path,\n",
    "                output_dir, parameter_key, parameter_vals):\n",
    "\n",
    "    output_paths = {}\n",
    "    if not os.path.isdir(output_dir):\n",
    "        os.mkdir(output_dir)\n",
    "    for parameter_val in parameter_vals:\n",
    "        this_res_path = run_one_simulation_helper(eplus_run_path, idf_path,\n",
    "                output_dir, parameter_key, parameter_val)\n",
    "\n",
    "        output_paths[parameter_val] = this_res_path\n",
    "    return output_paths\n",
    "\n",
    "print(run_one_parameter_parametr)\n"
   ]
  }
 ],
 "metadata": {
  "kernelspec": {
   "display_name": "Python 3",
   "language": "python",
   "name": "python3"
  },
  "language_info": {
   "codemirror_mode": {
    "name": "ipython",
    "version": 3
   },
   "file_extension": ".py",
   "mimetype": "text/x-python",
   "name": "python",
   "nbconvert_exporter": "python",
   "pygments_lexer": "ipython3",
   "version": "3.7.0"
  }
 },
 "nbformat": 4,
 "nbformat_minor": 2
}
